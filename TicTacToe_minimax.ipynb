{
  "cells": [
    {
      "cell_type": "code",
      "execution_count": 27,
      "metadata": {},
      "outputs": [],
      "source": [
        "import time"
      ]
    },
    {
      "cell_type": "markdown",
      "metadata": {
        "colab_type": "text",
        "id": "view-in-github"
      },
      "source": [
        "<a href=\"https://colab.research.google.com/github/kitomicms/tic_tac_toc_minimax/blob/main/TicTacToe_minimax.ipynb\" target=\"_parent\"><img src=\"https://colab.research.google.com/assets/colab-badge.svg\" alt=\"Open In Colab\"/></a>"
      ]
    },
    {
      "cell_type": "code",
      "execution_count": 28,
      "metadata": {
        "colab": {
          "base_uri": "https://localhost:8080/"
        },
        "id": "AxV-0eVv1D6S",
        "outputId": "6f76db1a-ab89-411f-812d-bd8e9c9d2d8a"
      },
      "outputs": [
        {
          "data": {
            "text/plain": [
              "(2, 14)"
            ]
          },
          "execution_count": 28,
          "metadata": {},
          "output_type": "execute_result"
        }
      ],
      "source": [
        "board = ['','','','','','','','','']\n",
        "\n",
        "\n",
        "def isWin(board):\n",
        "  win_con = ['123','456','789',\n",
        "           '159','357',\n",
        "           '147','258','369']\n",
        "  x_pos = ''\n",
        "  o_pos = ''\n",
        "  for count,space in enumerate(board):\n",
        "    if space == 'x':\n",
        "      x_pos += str(count+1)\n",
        "    elif space == 'o':\n",
        "      o_pos += str(count+1)\n",
        "    else:\n",
        "      pass\n",
        "\n",
        "  #print(x_pos,o_pos)\n",
        "  for y in win_con:\n",
        "    if (y[0] in x_pos and y[1] in x_pos) and y[2] in x_pos:\n",
        "      return 'x'\n",
        "    elif (y[0] in o_pos and y[1] in o_pos) and y[2] in o_pos:\n",
        "      #print(y[0] in o_pos,y[1] in o_pos,y[2] in o_pos)\n",
        "      return 'o'\n",
        "\n",
        "def eval_score(board):\n",
        "  # get the current score\n",
        "    score = 0\n",
        "    if isWin(board) == 'o':\n",
        "      return score + 10\n",
        "    elif isWin(board) == 'x':\n",
        "      return score - 10\n",
        "    return score\n",
        "\n",
        "def legal_moves(board):\n",
        "  moves = []\n",
        "  for count,space in enumerate(board):\n",
        "    if space == '':\n",
        "      moves.append(count)\n",
        "  return moves\n",
        "\n",
        "def minimax(board,depth,move,turn,maximizer):\n",
        "\n",
        "  if depth == 0 or isWin(board):\n",
        "    #print(board[0:3],\"\\n\",board[3:6],\"\\n\",board[-3:])\n",
        "    #print(move,eval_score(board))\n",
        "    return move,eval_score(board)+depth\n",
        "\n",
        "\n",
        "  if maximizer:\n",
        "    bestMove = None\n",
        "    bestScore = -9999\n",
        "    old_board = board\n",
        "\n",
        "\n",
        "    moves = legal_moves(board)\n",
        "    thisTurn = turn\n",
        "    opponentTurn = 'x' if turn == 'o' else 'o'\n",
        "\n",
        "\n",
        "    for move in moves:\n",
        "      # make move\n",
        "     # print(\"wrong board\",board)\n",
        "      new_board = []\n",
        "      new_board = new_board + old_board\n",
        "      new_board[move] = thisTurn\n",
        "      new_move, score = minimax(new_board,depth-1,move,opponentTurn,False)\n",
        "      if score > bestScore:\n",
        "        bestScore = score\n",
        "        bestMove = move\n",
        "      # undo move\n",
        "      #board[move] = ''\n",
        "      #new_board = []\n",
        "    return bestMove,bestScore\n",
        "\n",
        "\n",
        "  if not maximizer:\n",
        "    bestMove = None\n",
        "    bestScore = 9999\n",
        "    old_board = board\n",
        "\n",
        "\n",
        "    moves = legal_moves(board)\n",
        "    thisTurn = turn\n",
        "    opponentTurn = 'x' if turn == 'o' else 'o'\n",
        "    for move in moves:\n",
        "      # make move\n",
        "      new_board = []\n",
        "      new_board = new_board + old_board\n",
        "      new_board[move] = thisTurn\n",
        "      new_move, score = minimax(new_board,depth-1,move,opponentTurn,True)\n",
        "      if score < bestScore:\n",
        "        bestScore = score\n",
        "        bestMove = move\n",
        "      # undo move\n",
        "      #board[move] = ''\n",
        "      #new_board = []\n",
        "\n",
        "    return bestMove,bestScore\n",
        "\n",
        "random_board = ['o','','',\n",
        "                'x','o','',\n",
        "                'o','x','x']\n",
        "minimax(random_board,5,'','o',True)"
      ]
    },
    {
      "cell_type": "code",
      "execution_count": 29,
      "metadata": {
        "id": "dMg2cvsxUKP8"
      },
      "outputs": [],
      "source": [
        "def alpha_beta(board,depth,move,turn,maximizer,alpha,beta):\n",
        "\n",
        "  if depth == 0 or isWin(board):\n",
        "    #print(board[0:3],\"\\n\",board[3:6],\"\\n\",board[-3:])\n",
        "    #print(move,eval_score(board))\n",
        "    return move,eval_score(board)+depth\n",
        "\n",
        "\n",
        "  if maximizer:\n",
        "    bestMove = None\n",
        "    bestScore = -9999\n",
        "    old_board = board\n",
        "\n",
        "\n",
        "    moves = legal_moves(board)\n",
        "    thisTurn = turn\n",
        "    opponentTurn = 'x' if turn == 'o' else 'o'\n",
        "\n",
        "\n",
        "    for move in moves:\n",
        "      # make move\n",
        "     # print(\"wrong board\",board)\n",
        "      new_board = []\n",
        "      new_board = new_board + old_board\n",
        "      new_board[move] = thisTurn\n",
        "      new_move, score = alpha_beta(new_board,depth-1,move,opponentTurn,False,alpha,beta)\n",
        "      if score > bestScore:\n",
        "        bestScore = score\n",
        "        bestMove = move\n",
        "      alpha = max(alpha,bestScore)\n",
        "      if beta <= alpha:\n",
        "        break\n",
        "      # undo move\n",
        "      #board[move] = ''\n",
        "      #new_board = []\n",
        "    return bestMove,bestScore\n",
        "\n",
        "\n",
        "  if not maximizer:\n",
        "    bestMove = None\n",
        "    bestScore = 9999\n",
        "    old_board = board\n",
        "\n",
        "\n",
        "    moves = legal_moves(board)\n",
        "    thisTurn = turn\n",
        "    opponentTurn = 'x' if turn == 'o' else 'o'\n",
        "    for move in moves:\n",
        "      # make move\n",
        "      new_board = []\n",
        "      new_board = new_board + old_board\n",
        "      new_board[move] = thisTurn\n",
        "      new_move, score = alpha_beta(new_board,depth-1,move,opponentTurn,True,alpha,beta)\n",
        "      if score < bestScore:\n",
        "        bestScore = score\n",
        "        bestMove = move\n",
        "      beta = min(beta,bestScore)\n",
        "      if beta <= alpha:\n",
        "        break\n",
        "      # undo move\n",
        "      #board[move] = ''\n",
        "      #new_board = []\n",
        "\n",
        "    return bestMove,bestScore\n",
        "\n",
        "def timer(func1,func2):\n",
        "  start_time = time.time()\n",
        "  print(func1)\n",
        "  mid_time = time.time()\n",
        "  first = mid_time - start_time\n",
        "  print(mid_time - start_time)\n",
        "  print(func2)\n",
        "  end_time = time.time()\n",
        "  second = end_time - mid_time\n",
        "  print(end_time - mid_time)\n",
        "  print(second < first)\n",
        "\n"
      ]
    },
    {
      "cell_type": "code",
      "execution_count": 30,
      "metadata": {},
      "outputs": [
        {
          "name": "stdout",
          "output_type": "stream",
          "text": [
            "(2, 12)\n",
            "2.09808349609375e-05\n",
            "(2, 14)\n",
            "1.6927719116210938e-05\n",
            "True\n"
          ]
        }
      ],
      "source": [
        "timer(minimax(random_board,3,'','o',True),alpha_beta(random_board,5,'','o',True,-1000,1000))"
      ]
    },
    {
      "cell_type": "code",
      "execution_count": null,
      "metadata": {},
      "outputs": [],
      "source": []
    }
  ],
  "metadata": {
    "colab": {
      "authorship_tag": "ABX9TyMcxEI9dkk/P7U6fZe78X7h",
      "include_colab_link": true,
      "name": "TicTacToe_minimax.ipynb",
      "provenance": []
    },
    "interpreter": {
      "hash": "b284775526051a32a65fd3fa20035b33d4ffedc80d7a4512e838da53c05b8e36"
    },
    "kernelspec": {
      "display_name": "Python 3.9.6 ('base')",
      "language": "python",
      "name": "python3"
    },
    "language_info": {
      "codemirror_mode": {
        "name": "ipython",
        "version": 3
      },
      "file_extension": ".py",
      "mimetype": "text/x-python",
      "name": "python",
      "nbconvert_exporter": "python",
      "pygments_lexer": "ipython3",
      "version": "3.9.6"
    }
  },
  "nbformat": 4,
  "nbformat_minor": 0
}
