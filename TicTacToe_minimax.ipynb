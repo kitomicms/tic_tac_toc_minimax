{
  "nbformat": 4,
  "nbformat_minor": 0,
  "metadata": {
    "colab": {
      "name": "TicTacToe_minimax.ipynb",
      "provenance": [],
      "authorship_tag": "ABX9TyMcxEI9dkk/P7U6fZe78X7h",
      "include_colab_link": true
    },
    "kernelspec": {
      "name": "python3",
      "display_name": "Python 3"
    },
    "language_info": {
      "name": "python"
    }
  },
  "cells": [
    {
      "cell_type": "markdown",
      "metadata": {
        "id": "view-in-github",
        "colab_type": "text"
      },
      "source": [
        "<a href=\"https://colab.research.google.com/github/kitomicms/tic_tac_toc_minimax/blob/main/TicTacToe_minimax.ipynb\" target=\"_parent\"><img src=\"https://colab.research.google.com/assets/colab-badge.svg\" alt=\"Open In Colab\"/></a>"
      ]
    },
    {
      "cell_type": "code",
      "execution_count": 95,
      "metadata": {
        "id": "AxV-0eVv1D6S",
        "colab": {
          "base_uri": "https://localhost:8080/"
        },
        "outputId": "6f76db1a-ab89-411f-812d-bd8e9c9d2d8a"
      },
      "outputs": [
        {
          "output_type": "execute_result",
          "data": {
            "text/plain": [
              "(6, 14)"
            ]
          },
          "metadata": {},
          "execution_count": 95
        }
      ],
      "source": [
        "board = ['','','','','','','','','']\n",
        "\n",
        "\n",
        "def isWin(board):\n",
        "  win_con = ['123','456','789',\n",
        "           '159','357',\n",
        "           '147','258','369']\n",
        "  x_pos = ''\n",
        "  o_pos = ''\n",
        "  for count,space in enumerate(board):\n",
        "    if space == 'x':\n",
        "      x_pos += str(count+1)\n",
        "    elif space == 'o':\n",
        "      o_pos += str(count+1)\n",
        "    else:\n",
        "      pass\n",
        "\n",
        "  #print(x_pos,o_pos)\n",
        "  for y in win_con:\n",
        "    if (y[0] in x_pos and y[1] in x_pos) and y[2] in x_pos:\n",
        "      return 'x'\n",
        "    elif (y[0] in o_pos and y[1] in o_pos) and y[2] in o_pos:\n",
        "      #print(y[0] in o_pos,y[1] in o_pos,y[2] in o_pos)\n",
        "      return 'o'\n",
        "\n",
        "def eval_score(board):\n",
        "  # get the current score\n",
        "    score = 0\n",
        "    if isWin(board) == 'o':\n",
        "      return score + 10\n",
        "    elif isWin(board) == 'x':\n",
        "      return score - 10\n",
        "    return score\n",
        "\n",
        "def legal_moves(board):\n",
        "  moves = []\n",
        "  for count,space in enumerate(board):\n",
        "    if space == '':\n",
        "      moves.append(count)\n",
        "  return moves\n",
        "\n",
        "def minimax(board,depth,move,turn,maximizer):\n",
        "\n",
        "  if depth == 0 or isWin(board):\n",
        "    #print(board[0:3],\"\\n\",board[3:6],\"\\n\",board[-3:])\n",
        "    #print(move,eval_score(board))\n",
        "    return move,eval_score(board)+depth\n",
        "\n",
        "\n",
        "  if maximizer:\n",
        "    bestMove = None\n",
        "    bestScore = -9999\n",
        "    old_board = board\n",
        "\n",
        "\n",
        "    moves = legal_moves(board)\n",
        "    thisTurn = turn\n",
        "    opponentTurn = 'x' if turn == 'o' else 'o'\n",
        "\n",
        "\n",
        "    for move in moves:\n",
        "      # make move\n",
        "     # print(\"wrong board\",board)\n",
        "      new_board = []\n",
        "      new_board = new_board + old_board\n",
        "      new_board[move] = thisTurn\n",
        "      new_move, score = minimax(new_board,depth-1,move,opponentTurn,False)\n",
        "      if score > bestScore:\n",
        "        bestScore = score\n",
        "        bestMove = move\n",
        "      # undo move\n",
        "      #board[move] = ''\n",
        "      #new_board = []\n",
        "    return bestMove,bestScore\n",
        "\n",
        "\n",
        "  if not maximizer:\n",
        "    bestMove = None\n",
        "    bestScore = 9999\n",
        "    old_board = board\n",
        "\n",
        "\n",
        "    moves = legal_moves(board)\n",
        "    thisTurn = turn\n",
        "    opponentTurn = 'x' if turn == 'o' else 'o'\n",
        "    for move in moves:\n",
        "      # make move\n",
        "      new_board = []\n",
        "      new_board = new_board + old_board\n",
        "      new_board[move] = thisTurn\n",
        "      new_move, score = minimax(new_board,depth-1,move,opponentTurn,True)\n",
        "      if score < bestScore:\n",
        "        bestScore = score\n",
        "        bestMove = move\n",
        "      # undo move\n",
        "      #board[move] = ''\n",
        "      #new_board = []\n",
        "\n",
        "    return bestMove,bestScore\n",
        "\n",
        "random_board = ['o','x','',\n",
        "                'o','o','x',\n",
        "                '','','x']\n",
        "minimax(random_board,5,'','o',True)"
      ]
    },
    {
      "cell_type": "code",
      "source": [
        ""
      ],
      "metadata": {
        "id": "dMg2cvsxUKP8"
      },
      "execution_count": null,
      "outputs": []
    }
  ]
}